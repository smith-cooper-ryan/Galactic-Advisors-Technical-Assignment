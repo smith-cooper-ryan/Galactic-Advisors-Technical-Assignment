{
 "cells": [
  {
   "cell_type": "markdown",
   "id": "616dfb20",
   "metadata": {},
   "source": [
    "Ryan Smith </br>\n",
    "15 January 2024 </br>\n",
    "Galactic Advisors - Interview Assignment"
   ]
  },
  {
   "cell_type": "markdown",
   "id": "88d20660",
   "metadata": {},
   "source": [
    "## Drive Scanner"
   ]
  },
  {
   "cell_type": "markdown",
   "id": "768e7e4b",
   "metadata": {},
   "source": [
    "### Foreword"
   ]
  },
  {
   "cell_type": "markdown",
   "id": "46e00545",
   "metadata": {},
   "source": [
    "&nbsp;&nbsp;&nbsp;&nbsp;&nbsp;&nbsp;A customer has requested that a drive scanner program be developed. This program must be easily usable for a non-technical user and must function on a variety of operating systems. The requested function is that this scanner search for Social Security Numbers (SSNs) and Credit Card Numbers (CCNs), detecting and recording these strings across a wide variety of file types. "
   ]
  },
  {
   "cell_type": "markdown",
   "id": "9bbdb055",
   "metadata": {},
   "source": [
    "### Application"
   ]
  },
  {
   "cell_type": "markdown",
   "id": "6fed2260",
   "metadata": {},
   "source": [
    "###### Packages"
   ]
  },
  {
   "cell_type": "markdown",
   "id": "ab6c56a5",
   "metadata": {},
   "source": [
    "The following packages are imported now, for use throughout the program:"
   ]
  },
  {
   "cell_type": "code",
   "execution_count": 79,
   "id": "034fd46c",
   "metadata": {},
   "outputs": [
    {
     "name": "stdout",
     "output_type": "stream",
     "text": [
      "Requirement already satisfied: textract in /home/rycaga/Applications/home/rycaga/Applications/anaconda3/lib/python3.11/site-packages (1.6.5)\n",
      "Requirement already satisfied: argcomplete~=1.10.0 in /home/rycaga/Applications/home/rycaga/Applications/anaconda3/lib/python3.11/site-packages (from textract) (1.10.3)\n",
      "Requirement already satisfied: beautifulsoup4~=4.8.0 in /home/rycaga/Applications/home/rycaga/Applications/anaconda3/lib/python3.11/site-packages (from textract) (4.8.2)\n",
      "Requirement already satisfied: chardet==3.* in /home/rycaga/Applications/home/rycaga/Applications/anaconda3/lib/python3.11/site-packages (from textract) (3.0.4)\n",
      "Requirement already satisfied: docx2txt~=0.8 in /home/rycaga/Applications/home/rycaga/Applications/anaconda3/lib/python3.11/site-packages (from textract) (0.8)\n",
      "Requirement already satisfied: extract-msg<=0.29.* in /home/rycaga/Applications/home/rycaga/Applications/anaconda3/lib/python3.11/site-packages (from textract) (0.28.7)\n",
      "Requirement already satisfied: pdfminer.six==20191110 in /home/rycaga/Applications/home/rycaga/Applications/anaconda3/lib/python3.11/site-packages (from textract) (20191110)\n",
      "Requirement already satisfied: python-pptx~=0.6.18 in /home/rycaga/Applications/home/rycaga/Applications/anaconda3/lib/python3.11/site-packages (from textract) (0.6.23)\n",
      "Requirement already satisfied: six~=1.12.0 in /home/rycaga/Applications/home/rycaga/Applications/anaconda3/lib/python3.11/site-packages (from textract) (1.12.0)\n",
      "Requirement already satisfied: SpeechRecognition~=3.8.1 in /home/rycaga/Applications/home/rycaga/Applications/anaconda3/lib/python3.11/site-packages (from textract) (3.8.1)\n",
      "Requirement already satisfied: xlrd~=1.2.0 in /home/rycaga/Applications/home/rycaga/Applications/anaconda3/lib/python3.11/site-packages (from textract) (1.2.0)\n",
      "Requirement already satisfied: pycryptodome in /home/rycaga/Applications/home/rycaga/Applications/anaconda3/lib/python3.11/site-packages (from pdfminer.six==20191110->textract) (3.20.0)\n",
      "Requirement already satisfied: sortedcontainers in /home/rycaga/Applications/home/rycaga/Applications/anaconda3/lib/python3.11/site-packages (from pdfminer.six==20191110->textract) (2.4.0)\n",
      "Requirement already satisfied: soupsieve>=1.2 in /home/rycaga/Applications/home/rycaga/Applications/anaconda3/lib/python3.11/site-packages (from beautifulsoup4~=4.8.0->textract) (2.4)\n",
      "Requirement already satisfied: imapclient==2.1.0 in /home/rycaga/Applications/home/rycaga/Applications/anaconda3/lib/python3.11/site-packages (from extract-msg<=0.29.*->textract) (2.1.0)\n",
      "Requirement already satisfied: olefile>=0.46 in /home/rycaga/Applications/home/rycaga/Applications/anaconda3/lib/python3.11/site-packages (from extract-msg<=0.29.*->textract) (0.47)\n",
      "Requirement already satisfied: tzlocal>=2.1 in /home/rycaga/Applications/home/rycaga/Applications/anaconda3/lib/python3.11/site-packages (from extract-msg<=0.29.*->textract) (5.2)\n",
      "Requirement already satisfied: compressed-rtf>=1.0.6 in /home/rycaga/Applications/home/rycaga/Applications/anaconda3/lib/python3.11/site-packages (from extract-msg<=0.29.*->textract) (1.0.6)\n",
      "Requirement already satisfied: ebcdic>=1.1.1 in /home/rycaga/Applications/home/rycaga/Applications/anaconda3/lib/python3.11/site-packages (from extract-msg<=0.29.*->textract) (1.1.1)\n",
      "Requirement already satisfied: lxml>=3.1.0 in /home/rycaga/Applications/home/rycaga/Applications/anaconda3/lib/python3.11/site-packages (from python-pptx~=0.6.18->textract) (4.9.3)\n",
      "Requirement already satisfied: Pillow>=3.3.2 in /home/rycaga/Applications/home/rycaga/Applications/anaconda3/lib/python3.11/site-packages (from python-pptx~=0.6.18->textract) (10.0.1)\n",
      "Requirement already satisfied: XlsxWriter>=0.5.7 in /home/rycaga/Applications/home/rycaga/Applications/anaconda3/lib/python3.11/site-packages (from python-pptx~=0.6.18->textract) (3.1.9)\n",
      "\u001b[33mDEPRECATION: textract 1.6.5 has a non-standard dependency specifier extract-msg<=0.29.*. pip 23.3 will enforce this behaviour change. A possible replacement is to upgrade to a newer version of textract or contact the author to suggest that they release a version with a conforming dependency specifiers. Discussion can be found at https://github.com/pypa/pip/issues/12063\u001b[0m\u001b[33m\n",
      "\u001b[0mNote: you may need to restart the kernel to use updated packages.\n",
      "Requirement already satisfied: odfpy in /home/rycaga/Applications/home/rycaga/Applications/anaconda3/lib/python3.11/site-packages (1.4.1)\n",
      "Requirement already satisfied: defusedxml in /home/rycaga/Applications/home/rycaga/Applications/anaconda3/lib/python3.11/site-packages (from odfpy) (0.7.1)\n",
      "\u001b[33mDEPRECATION: textract 1.6.5 has a non-standard dependency specifier extract-msg<=0.29.*. pip 23.3 will enforce this behaviour change. A possible replacement is to upgrade to a newer version of textract or contact the author to suggest that they release a version with a conforming dependency specifiers. Discussion can be found at https://github.com/pypa/pip/issues/12063\u001b[0m\u001b[33m\n",
      "\u001b[0mNote: you may need to restart the kernel to use updated packages.\n"
     ]
    }
   ],
   "source": [
    "import re\n",
    "import os\n",
    "%pip install textract\n",
    "import textract\n",
    "import pathlib\n",
    "from pathlib import Path\n",
    "import pandas as pd\n",
    "%pip install odfpy\n",
    "import numpy as np\n",
    "import zipfile\n",
    "import shutil"
   ]
  },
  {
   "cell_type": "markdown",
   "id": "73b916d1",
   "metadata": {},
   "source": [
    "#### Pluggable Algorithms"
   ]
  },
  {
   "cell_type": "markdown",
   "id": "a59374c9",
   "metadata": {},
   "source": [
    "First, the pluggable algorithms are created and tested. These will later be implemented in the greater program, but each pluggable algorithm is designed to accurately identify and return SSNs and CCNs, respectively."
   ]
  },
  {
   "cell_type": "markdown",
   "id": "58d88226",
   "metadata": {},
   "source": [
    "###### SSN Algorithm"
   ]
  },
  {
   "cell_type": "markdown",
   "id": "89287de7",
   "metadata": {},
   "source": [
    "The SSN Search algorithm implements a complex Regular Expression (RegEx) to search a given string of text for number strings that meet the requirements for an SSN. These requirements are:\n",
    "- Per the Social Security Agency: The nine-digit SSN is composed of three parts:\n",
    "    - The first set of three digits is called the Area Number\n",
    "    - The second set of two digits is called the Group Number\n",
    "    - The final set of four digits is the Serial Number \n",
    "- These digits may be separated into the three blocks by either spaces or dashes in the format 'xxx-xx-xxxx'\n",
    "- The Area Number will not be '000', '666', or begin with the digit '9'\n",
    "- The Group Number will not be '00'\n",
    "- The Serial Number will not be '0000'\n",
    "Based upon the above criteria, a RegEx was written such that all files will be searched for 9-digit number strings matching the specifications will be recoded."
   ]
  },
  {
   "cell_type": "code",
   "execution_count": 2,
   "id": "83872f38",
   "metadata": {},
   "outputs": [],
   "source": [
    "def ssnSearch(text, outFile):\n",
    "    search  = r'(?!(\\d){3}(-| |)\\1{2}\\2\\1{4})(?!666|000|9\\d{2})(\\b\\d{3}(-| |)(?!00)\\d{2}\\4(?!0{4})\\d{4}\\b)'\n",
    "    results = re.findall(search, text)\n",
    "    for result in results:\n",
    "        result = str(result)\n",
    "        result = result.replace(' ','')\n",
    "        result = result.replace('-','')\n",
    "        result = result.replace('.','')\n",
    "        outFile.write(\"SSN: \" + result + '\\n')"
   ]
  },
  {
   "cell_type": "markdown",
   "id": "9bc349b1",
   "metadata": {},
   "source": [
    "###### CCN Algorithm"
   ]
  },
  {
   "cell_type": "markdown",
   "id": "15a8439e",
   "metadata": {},
   "source": [
    "A similar algorithm must be implemented in searching for CCNs. However, a simple regular expression is not sufficient for limiting false positives. Therefore, The Luhn Algorithm is also implemented. The Luhn algorithm is  a built-in verification system for Debit and Credit Card Numbers that is widely used in America. Here, it can easily be used to verify if a given Credit Card number meets this specification which will drastically reduce the rate of false positives in collecting numbers."
   ]
  },
  {
   "cell_type": "code",
   "execution_count": 3,
   "id": "07733725",
   "metadata": {},
   "outputs": [],
   "source": [
    "def luhn(ccn):\n",
    "    def digitsOf(n):\n",
    "        return [int(d) for d in str(n)]\n",
    "    digits = digitsOf(ccn)\n",
    "    odd = digits[-1::-2]\n",
    "    even = digits[-2::-2]\n",
    "    checksum = 0\n",
    "    checksum += sum(odd)\n",
    "    for d in even:\n",
    "        checksum += sum(digitsOf(d*2))\n",
    "    checksum %= 10\n",
    "    if checksum == 0:\n",
    "        return True\n",
    "    else:\n",
    "        return False"
   ]
  },
  {
   "cell_type": "markdown",
   "id": "87fc1e8c",
   "metadata": {},
   "source": [
    "Now that the Luhn Algorithm has been implemented, the CCN Search can be constructed. This search will consist of a universal RegEx, which can accomodate every CCN format in the USA. Upon searching for these numbers based on the RegEx, the Luhn Algorithm is employed to further validate results"
   ]
  },
  {
   "cell_type": "code",
   "execution_count": 4,
   "id": "d1d61240",
   "metadata": {},
   "outputs": [],
   "source": [
    "def ccnSearch(text, outFile):\n",
    "    search = r'\\b(?:\\d[ -]*?){13,16}\\b'\n",
    "    results = re.findall(search, text)\n",
    "    for result in results:\n",
    "        result = str(result)\n",
    "        result = result.replace(' ','')\n",
    "        result = result.replace('-','')\n",
    "        result = result.replace('.','')\n",
    "        if luhn(result) == True:\n",
    "            outFile.write(\"CCN: \" + result + '\\n')\n",
    "        else:\n",
    "            pass"
   ]
  },
  {
   "cell_type": "markdown",
   "id": "b8d53c6c",
   "metadata": {},
   "source": [
    "#### Drive Searching"
   ]
  },
  {
   "cell_type": "markdown",
   "id": "cc1dac1d",
   "metadata": {},
   "source": [
    "Scanning a drive for the above information poses two problems:\n",
    "1. The drive must be iterated through recursively, in a manner that is functional across multiple operating systems\n",
    "2. The scanning algorithm must be prepared for mixed and highly varied file input\n",
    "\n",
    "Consequently, the function is designed such that it may be implemented on any operating system using the Pathlib package. Further, the file input is handled using the Textract which will convert various types of file input into plain text, which is accessible by the above pluggable algorithms. Upon accessing each file, the program employs the above algorithms and writes the results to a plaintext report file."
   ]
  },
  {
   "cell_type": "markdown",
   "id": "0f0560ad",
   "metadata": {},
   "source": [
    "###### Excel and Excel-Like Handling"
   ]
  },
  {
   "cell_type": "markdown",
   "id": "e04f7954",
   "metadata": {},
   "source": [
    "First, some exceptions must be outlined before the primary Drive Searching function is declared. As the 'Textract' package struggles to handle some excel file extensions, that exception is handled with the below helper function."
   ]
  },
  {
   "cell_type": "code",
   "execution_count": 72,
   "id": "159d56e4",
   "metadata": {},
   "outputs": [],
   "source": [
    "excel = ('.xlsx', '.ods')\n",
    "\n",
    "def excelHandler(text):\n",
    "    text = pd.read_excel(text)\n",
    "    text.to_numpy().tolist()\n",
    "    return text"
   ]
  },
  {
   "cell_type": "markdown",
   "id": "997ab2c0",
   "metadata": {},
   "source": [
    "###### Compressed File Handling"
   ]
  },
  {
   "cell_type": "markdown",
   "id": "99f13005",
   "metadata": {},
   "source": [
    "Similar to the above helped function, another must be created for the handling of Compressed Files."
   ]
  },
  {
   "cell_type": "code",
   "execution_count": 90,
   "id": "86dcb5d3",
   "metadata": {},
   "outputs": [],
   "source": [
    "compressed = ('.zip', '.gz')\n",
    "\n",
    "def zipHandler(text, driveName):\n",
    "    if str(text).endswith('.zip'):\n",
    "        with zipfile.ZipFile(text,\"r\") as zip_ref:\n",
    "            zip_ref.extractall(driveName)\n",
    "    elif str(text).endswith('.gz'):\n",
    "        shutil.unpack_archive(filename=text, extract_dir=driveName)"
   ]
  },
  {
   "cell_type": "markdown",
   "id": "3afa2d5a",
   "metadata": {},
   "source": [
    "###### Drive Search Algorithm"
   ]
  },
  {
   "cell_type": "markdown",
   "id": "d0376d97",
   "metadata": {},
   "source": [
    "With the above helper functions implemented, the master drive-searching function can be built to take varied file input, and scan them using the earlier built algorithms for CCNs and SSNs."
   ]
  },
  {
   "cell_type": "code",
   "execution_count": 91,
   "id": "47e171b3",
   "metadata": {},
   "outputs": [],
   "source": [
    "def driveSearch(driveName):\n",
    "    out = open('report.txt', 'w')\n",
    "    drive = pathlib.Path(driveName)\n",
    "    for item in drive.rglob(\"*\"):\n",
    "        if item.is_file():\n",
    "            if str(item).endswith(excel):\n",
    "                text = excelHandler(item)\n",
    "                text = str(text)\n",
    "                ssnSearch(text, out)\n",
    "                ccnSearch(text, out)\n",
    "            elif str(item).endswith(compressed):\n",
    "                zipHandler(item, driveName)\n",
    "            else:\n",
    "                try:\n",
    "                    text = textract.process(item)\n",
    "                    text = text.decode('ascii')\n",
    "                    text = str(text)\n",
    "                    ssnSearch(text, out)\n",
    "                    ccnSearch(text, out)\n",
    "                except:\n",
    "                    print(\"ERROR. File: \" + str(item) + \" is unreadable.\")\n",
    "                    pass\n",
    "    out.close()        "
   ]
  },
  {
   "cell_type": "markdown",
   "id": "d9aa251e",
   "metadata": {},
   "source": [
    "### User Input"
   ]
  },
  {
   "cell_type": "markdown",
   "id": "c54ad8d4",
   "metadata": {},
   "source": [
    "Finally, with user-input directory, the scan can take place at the specified location."
   ]
  },
  {
   "cell_type": "code",
   "execution_count": 92,
   "id": "d6f6f8a9",
   "metadata": {},
   "outputs": [
    {
     "name": "stdout",
     "output_type": "stream",
     "text": [
      "Welcome! This program scans a given drive or directory for Credit Card and Social Security Numbers\n",
      "Please input the address of the drive to be scanned/home/rycaga/Desktop/Data Science/Galactic Programming Assignment/Sample Data/\n",
      "ERROR. File: /home/rycaga/Desktop/Data Science/Galactic Programming Assignment/Sample Data/driveScanner.py is unreadable.\n"
     ]
    }
   ],
   "source": [
    "print(\"Welcome! This program scans a given drive or directory for Credit Card and Social Security Numbers\")\n",
    "driveName = input(\"Please input the address of the drive to be scanned\")\n",
    "driveSearch(driveName)"
   ]
  },
  {
   "cell_type": "markdown",
   "id": "f1e53fb3",
   "metadata": {},
   "source": [
    "### Conclusion"
   ]
  },
  {
   "cell_type": "markdown",
   "id": "cb1aee25",
   "metadata": {},
   "source": [
    "&nbsp;&nbsp;&nbsp;&nbsp;&nbsp;&nbsp;This concludes the drive-scanning program. Although a rudimentary implementation, this should serve to scan through a majority of standard file types. There is certainly room for improvement, as this program could become quite extensive in nature. Some areas of improvement may be:\n",
    "- A GUI for ease of use on the consumer end.\n",
    "- Support for a greater variety of file extensions and types.\n",
    "- Greater efficiency, perhaps even in a more modern language or a Cython implementation\n",
    "\n",
    "Although rudimentary, this program is effective at scanning for the requested data by the customer. Furthermore, the application is in an easy-to-use, executable, format. The development lifecyle of a program such as this would be well-served by a full CI/CD pipeline process, including the collaboration of cybersecurity professionals, software developers, and data scientists."
   ]
  },
  {
   "cell_type": "markdown",
   "id": "e1304110",
   "metadata": {},
   "source": [
    "### Sources"
   ]
  },
  {
   "cell_type": "markdown",
   "id": "d0b331f0",
   "metadata": {},
   "source": [
    "- https://www.ssa.gov/history/ssn/geocard.html\n",
    "- https://www.ssa.gov/kc/SSAFactSheet--IssuingSSNs.pdf\n",
    "- https://regex101.com/library/kdXrYe\n",
    "- https://www.computerweekly.com/tip/How-to-find-credit-card-numbers-and-other-sensitive-data-on-your-users-computers\n",
    "- https://www.techtarget.com/searchsecurity/definition/LUHN-formula\n",
    "- https://allwin-raju-12.medium.com/credit-card-number-validation-using-luhns-algorithm-in-python-c0ed2fac6234\n"
   ]
  }
 ],
 "metadata": {
  "kernelspec": {
   "display_name": "Python 3 (ipykernel)",
   "language": "python",
   "name": "python3"
  },
  "language_info": {
   "codemirror_mode": {
    "name": "ipython",
    "version": 3
   },
   "file_extension": ".py",
   "mimetype": "text/x-python",
   "name": "python",
   "nbconvert_exporter": "python",
   "pygments_lexer": "ipython3",
   "version": "3.11.5"
  }
 },
 "nbformat": 4,
 "nbformat_minor": 5
}
